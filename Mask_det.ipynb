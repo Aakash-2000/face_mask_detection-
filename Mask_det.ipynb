{
  "nbformat": 4,
  "nbformat_minor": 0,
  "metadata": {
    "accelerator": "GPU",
    "colab": {
      "name": "Mask_det.ipynb",
      "provenance": [],
      "collapsed_sections": []
    },
    "kernelspec": {
      "display_name": "Python 3",
      "name": "python3"
    }
  },
  "cells": [
    {
      "cell_type": "code",
      "metadata": {
        "id": "aRHuJQG-SM-e"
      },
      "source": [
        "import tensorflow as tf\r\n",
        "from tensorflow import keras\r\n",
        "from tensorflow.keras.preprocessing.image import ImageDataGenerator\r\n",
        "from tensorflow.keras.applications import MobileNetV2\r\n",
        "from tensorflow.keras.applications.mobilenet_v2 import preprocess_input\r\n",
        "from tensorflow.keras.preprocessing.image import img_to_array\r\n",
        "from tensorflow.keras.preprocessing.image import load_img\r\n",
        "from tensorflow.keras.utils import to_categorical\r\n",
        "from sklearn.preprocessing import LabelBinarizer\r\n",
        "from sklearn.model_selection import train_test_split\r\n",
        "import tensorflow_hub as hub\r\n",
        "import numpy as np\r\n",
        "import os\r\n"
      ],
      "execution_count": null,
      "outputs": []
    },
    {
      "cell_type": "code",
      "metadata": {
        "colab": {
          "base_uri": "https://localhost:8080/"
        },
        "id": "BcocXKmtS7Uu",
        "outputId": "e5120f02-377d-40e0-dd8a-e3e42067bd49"
      },
      "source": [
        "path = \"/content/drive/MyDrive/dataset\"\r\n",
        "categories = [\"with_mask\",\"without_mask\"]\r\n",
        "labels = []\r\n",
        "data = []\r\n",
        "for i in categories:\r\n",
        "  imglist = os.listdir(os.path.join(path,i))\r\n",
        "  new_path = os.path.join(path,i)\r\n",
        "  for k in imglist:\r\n",
        "    img_path = os.path.join(new_path, k)\r\n",
        "    image = load_img(img_path, target_size=(224, 224))\r\n",
        "    image = img_to_array(image)\r\n",
        "    image = preprocess_input(image)\r\n",
        "    data.append(image)\r\n",
        "    labels.append(i)\r\n",
        "\r\n",
        "\r\n",
        "    "
      ],
      "execution_count": null,
      "outputs": [
        {
          "output_type": "stream",
          "text": [
            "/usr/local/lib/python3.6/dist-packages/PIL/Image.py:932: UserWarning: Palette images with Transparency expressed in bytes should be converted to RGBA images\n",
            "  \"Palette images with Transparency expressed in bytes should be \"\n"
          ],
          "name": "stderr"
        }
      ]
    },
    {
      "cell_type": "code",
      "metadata": {
        "id": "bSSrAZGAf9oN"
      },
      "source": [
        "lb = LabelBinarizer()\r\n",
        "labels = lb.fit_transform(labels)\r\n"
      ],
      "execution_count": null,
      "outputs": []
    },
    {
      "cell_type": "code",
      "metadata": {
        "id": "ALG-gJe4gpAO"
      },
      "source": [
        "labels = to_categorical(labels)\r\n"
      ],
      "execution_count": null,
      "outputs": []
    },
    {
      "cell_type": "code",
      "metadata": {
        "id": "O-IQVaXLjdHT"
      },
      "source": [
        "data = np.array(data,dtype=\"float32\")\r\n",
        "labels = np.array(labels)\r\n",
        "x_train,x_test,y_train,y_test = train_test_split(data,labels,test_size = 0.20,random_state = 42)"
      ],
      "execution_count": null,
      "outputs": []
    },
    {
      "cell_type": "code",
      "metadata": {
        "id": "0ctfKDLqgzCJ"
      },
      "source": [
        "feature_extractor_model = \"https://tfhub.dev/google/tf2-preview/mobilenet_v2/feature_vector/4\"\r\n",
        "\r\n",
        "pretrained_model_without_top_layer = hub.KerasLayer(\r\n",
        "    feature_extractor_model, input_shape=(224, 224, 3), trainable=False)"
      ],
      "execution_count": null,
      "outputs": []
    },
    {
      "cell_type": "code",
      "metadata": {
        "id": "Zp6cYJdkj-Ey"
      },
      "source": [
        "model = keras.Sequential([\r\n",
        "                          pretrained_model_without_top_layer,\r\n",
        "                          keras.layers.Flatten(),\r\n",
        "                          keras.layers.Dense(128,activation=\"relu\"),\r\n",
        "                          keras.layers.Dropout(0.5),\r\n",
        "                          keras.layers.Dense(2,activation = \"softmax\")\r\n",
        "])\r\n",
        "model.compile(loss=\"binary_crossentropy\", optimizer=\"adam\",\r\n",
        "\tmetrics=[\"accuracy\"])"
      ],
      "execution_count": null,
      "outputs": []
    },
    {
      "cell_type": "code",
      "metadata": {
        "colab": {
          "base_uri": "https://localhost:8080/"
        },
        "id": "a39FMshgk4XC",
        "outputId": "0faf2424-3a56-4d90-f518-15ab24c08d08"
      },
      "source": [
        "data_aug = ImageDataGenerator(\r\n",
        "\trotation_range=20,\r\n",
        "\tzoom_range=0.15,\r\n",
        "\twidth_shift_range=0.2,\r\n",
        "\theight_shift_range=0.2,\r\n",
        "\tshear_range=0.15,\r\n",
        "\thorizontal_flip=True,\r\n",
        "\tfill_mode=\"nearest\")\r\n",
        "\r\n",
        "model.fit(data_aug.flow(x_train,y_train),epochs=5)"
      ],
      "execution_count": null,
      "outputs": [
        {
          "output_type": "stream",
          "text": [
            "Epoch 1/5\n",
            "96/96 [==============================] - 40s 321ms/step - loss: 0.3410 - accuracy: 0.8552\n",
            "Epoch 2/5\n",
            "96/96 [==============================] - 31s 322ms/step - loss: 0.1065 - accuracy: 0.9592\n",
            "Epoch 3/5\n",
            "96/96 [==============================] - 31s 322ms/step - loss: 0.1092 - accuracy: 0.9569\n",
            "Epoch 4/5\n",
            "96/96 [==============================] - 31s 321ms/step - loss: 0.0840 - accuracy: 0.9754\n",
            "Epoch 5/5\n",
            "96/96 [==============================] - 31s 320ms/step - loss: 0.0737 - accuracy: 0.9755\n"
          ],
          "name": "stdout"
        },
        {
          "output_type": "execute_result",
          "data": {
            "text/plain": [
              "<tensorflow.python.keras.callbacks.History at 0x7f0dfa2de588>"
            ]
          },
          "metadata": {
            "tags": []
          },
          "execution_count": 8
        }
      ]
    },
    {
      "cell_type": "code",
      "metadata": {
        "colab": {
          "base_uri": "https://localhost:8080/"
        },
        "id": "R6f1irB6msOu",
        "outputId": "be134f9a-f6ee-43f1-95ba-a6b895f84e63"
      },
      "source": [
        "model.evaluate(x_test,y_test)"
      ],
      "execution_count": null,
      "outputs": [
        {
          "output_type": "stream",
          "text": [
            "24/24 [==============================] - 2s 49ms/step - loss: 0.0615 - accuracy: 0.9791\n"
          ],
          "name": "stdout"
        },
        {
          "output_type": "execute_result",
          "data": {
            "text/plain": [
              "[0.061498530209064484, 0.979139506816864]"
            ]
          },
          "metadata": {
            "tags": []
          },
          "execution_count": 9
        }
      ]
    },
    {
      "cell_type": "code",
      "metadata": {
        "id": "DtrtQfyHRna5"
      },
      "source": [
        "model.save(\"face_mask_model.h5\")"
      ],
      "execution_count": null,
      "outputs": []
    },
    {
      "cell_type": "code",
      "metadata": {
        "colab": {
          "base_uri": "https://localhost:8080/"
        },
        "id": "3NDoG8qjkyNc",
        "outputId": "2ae25b41-2b1b-4c97-df84-3b577eb2689f"
      },
      "source": [
        "import cv2\r\n",
        "img = cv2.imread(\"/content/0_0_aidai_0029.jpg\")\r\n",
        "img = cv2.resize(img,(224,224))\r\n",
        "img = img_to_array(img)\r\n",
        "img = np.expand_dims(img,axis = 0)\r\n",
        "x = model.predict(img)\r\n",
        "print(categories[np.argmax(x)])"
      ],
      "execution_count": null,
      "outputs": [
        {
          "output_type": "stream",
          "text": [
            "without_mask\n"
          ],
          "name": "stdout"
        }
      ]
    }
  ]
}